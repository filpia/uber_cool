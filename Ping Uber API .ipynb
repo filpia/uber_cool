{
 "cells": [
  {
   "cell_type": "code",
   "execution_count": 1,
   "metadata": {
    "collapsed": false
   },
   "outputs": [
    {
     "data": {
      "text/plain": [
       "1.0"
      ]
     },
     "execution_count": 1,
     "metadata": {},
     "output_type": "execute_result"
    }
   ],
   "source": [
    "import pandas as pd\n",
    "import numpy as np\n",
    "\n",
    "try:\n",
    "    from urllib.parse import parse_qs\n",
    "    from urllib.parse import urlparse\n",
    "except ImportError:\n",
    "    from urlparse import parse_qs\n",
    "    from urlparse import urlparse\n",
    "\n",
    "from example.utils import create_uber_client\n",
    "from example.utils import fail_print\n",
    "from example.utils import import_oauth2_credentials\n",
    "from example.utils import paragraph_print\n",
    "from example.utils import response_print\n",
    "from example.utils import success_print\n",
    "\n",
    "from uber_rides.auth import AuthorizationCodeGrant\n",
    "\n",
    "from uber_rides.client import SurgeError\n",
    "from uber_rides.errors import ClientError\n",
    "from uber_rides.errors import ServerError\n",
    "from uber_rides.client import UberRidesClient\n",
    "from uber_rides.session import Session\n",
    "\n",
    "from uber_rides.session import Session\n",
    "session = Session(server_token='***USE_YOUR_TOKEN_HERE***')\n",
    "client = UberRidesClient(session)\n",
    "\n",
    "def get_surge(client_,lat_,lng_):\n",
    "    response=client_.get_price_estimates(\n",
    "        start_latitude=lat_,\n",
    "        start_longitude=lng_,\n",
    "        end_latitude=40.7551,\n",
    "        end_longitude=-73.9637\n",
    "    )\n",
    "    return response.json['prices'][0]['surge_multiplier']\n",
    "    \n",
    "get_surge(client,40.7536,-73.9832)"
   ]
  },
  {
   "cell_type": "code",
   "execution_count": 3,
   "metadata": {
    "collapsed": false
   },
   "outputs": [
    {
     "name": "stdout",
     "output_type": "stream",
     "text": [
      "106\n"
     ]
    },
    {
     "data": {
      "text/html": [
       "<div>\n",
       "<table border=\"1\" class=\"dataframe\">\n",
       "  <thead>\n",
       "    <tr style=\"text-align: right;\">\n",
       "      <th></th>\n",
       "      <th>lat_round</th>\n",
       "      <th>lng_round</th>\n",
       "      <th>ref_num</th>\n",
       "    </tr>\n",
       "  </thead>\n",
       "  <tbody>\n",
       "    <tr>\n",
       "      <th>0</th>\n",
       "      <td>40.705</td>\n",
       "      <td>-74.010</td>\n",
       "      <td>0</td>\n",
       "    </tr>\n",
       "    <tr>\n",
       "      <th>1</th>\n",
       "      <td>40.705</td>\n",
       "      <td>-74.005</td>\n",
       "      <td>1</td>\n",
       "    </tr>\n",
       "    <tr>\n",
       "      <th>2</th>\n",
       "      <td>40.710</td>\n",
       "      <td>-74.015</td>\n",
       "      <td>2</td>\n",
       "    </tr>\n",
       "    <tr>\n",
       "      <th>3</th>\n",
       "      <td>40.710</td>\n",
       "      <td>-74.010</td>\n",
       "      <td>3</td>\n",
       "    </tr>\n",
       "    <tr>\n",
       "      <th>4</th>\n",
       "      <td>40.710</td>\n",
       "      <td>-74.005</td>\n",
       "      <td>4</td>\n",
       "    </tr>\n",
       "  </tbody>\n",
       "</table>\n",
       "</div>"
      ],
      "text/plain": [
       "   lat_round  lng_round  ref_num\n",
       "0     40.705    -74.010        0\n",
       "1     40.705    -74.005        1\n",
       "2     40.710    -74.015        2\n",
       "3     40.710    -74.010        3\n",
       "4     40.710    -74.005        4"
      ]
     },
     "execution_count": 3,
     "metadata": {},
     "output_type": "execute_result"
    }
   ],
   "source": [
    "grid=pd.read_csv('manhattan_grid.csv')\n",
    "\n",
    "print(len(grid))\n",
    "\n",
    "grid['ref_num']=np.arange(0,len(grid))\n",
    "grid.head()\n"
   ]
  },
  {
   "cell_type": "code",
   "execution_count": 5,
   "metadata": {
    "collapsed": false
   },
   "outputs": [
    {
     "name": "stdout",
     "output_type": "stream",
     "text": [
      "Iteration complete at: 05_30_2016_10_15_25\n",
      "Iteration complete at: 05_30_2016_10_30_54\n",
      "Iteration complete at: 05_30_2016_10_46_19\n",
      "Iteration complete at: 05_30_2016_11_01_40\n",
      "Iteration complete at: 05_30_2016_11_17_05\n",
      "Iteration complete at: 05_30_2016_11_32_31\n",
      "Iteration complete at: 05_30_2016_11_47_52\n",
      "Iteration complete at: 05_30_2016_12_03_25\n",
      "Iteration complete at: 05_30_2016_12_18_52\n",
      "Iteration complete at: 05_30_2016_12_34_57\n",
      "Iteration complete at: 05_30_2016_12_50_48\n",
      "Iteration complete at: 05_30_2016_13_06_27\n",
      "Iteration complete at: 05_30_2016_13_22_10\n",
      "Iteration complete at: 05_30_2016_13_38_02\n",
      "Iteration complete at: 05_30_2016_13_53_55\n",
      "Iteration complete at: 05_30_2016_14_09_48\n",
      "Iteration complete at: 05_30_2016_14_25_34\n",
      "Iteration complete at: 05_30_2016_14_41_23\n",
      "Iteration complete at: 05_30_2016_14_56_52\n",
      "Iteration complete at: 05_30_2016_15_12_20\n",
      "Iteration complete at: 05_30_2016_15_27_54\n",
      "Iteration complete at: 05_30_2016_15_43_26\n",
      "Iteration complete at: 05_30_2016_15_58_55\n",
      "Iteration complete at: 05_30_2016_16_14_27\n",
      "Iteration complete at: 05_30_2016_16_30_01\n",
      "Iteration complete at: 05_30_2016_16_45_38\n",
      "Iteration complete at: 05_30_2016_17_01_05\n",
      "Iteration complete at: 05_30_2016_17_16_42\n"
     ]
    },
    {
     "ename": "KeyboardInterrupt",
     "evalue": "",
     "output_type": "error",
     "traceback": [
      "\u001b[1;31m---------------------------------------------------------------------------\u001b[0m",
      "\u001b[1;31mKeyboardInterrupt\u001b[0m                         Traceback (most recent call last)",
      "\u001b[1;32m<ipython-input-5-60bb4ff99fc9>\u001b[0m in \u001b[0;36m<module>\u001b[1;34m()\u001b[0m\n\u001b[0;32m     19\u001b[0m \u001b[1;33m\u001b[0m\u001b[0m\n\u001b[0;32m     20\u001b[0m \u001b[1;31m#time.sleep(7080)\u001b[0m\u001b[1;33m\u001b[0m\u001b[1;33m\u001b[0m\u001b[0m\n\u001b[1;32m---> 21\u001b[1;33m \u001b[0mpull_surge\u001b[0m\u001b[1;33m(\u001b[0m\u001b[1;36m13\u001b[0m\u001b[1;33m)\u001b[0m\u001b[1;33m\u001b[0m\u001b[0m\n\u001b[0m",
      "\u001b[1;32m<ipython-input-5-60bb4ff99fc9>\u001b[0m in \u001b[0;36mpull_surge\u001b[1;34m(delay_min)\u001b[0m\n\u001b[0;32m     15\u001b[0m         \u001b[1;31m#grid_temp.to_csv('output\\\\am_rush\\\\test_'+dt_str+'.csv',index=False)\u001b[0m\u001b[1;33m\u001b[0m\u001b[1;33m\u001b[0m\u001b[0m\n\u001b[0;32m     16\u001b[0m         \u001b[1;32mprint\u001b[0m\u001b[1;33m(\u001b[0m\u001b[1;34m'Iteration complete at: '\u001b[0m\u001b[1;33m+\u001b[0m\u001b[0mdt_str\u001b[0m\u001b[1;33m)\u001b[0m\u001b[1;33m\u001b[0m\u001b[0m\n\u001b[1;32m---> 17\u001b[1;33m         \u001b[0mtime\u001b[0m\u001b[1;33m.\u001b[0m\u001b[0msleep\u001b[0m\u001b[1;33m(\u001b[0m\u001b[0mdelay_min\u001b[0m\u001b[1;33m*\u001b[0m\u001b[1;36m60\u001b[0m\u001b[1;33m)\u001b[0m\u001b[1;33m\u001b[0m\u001b[0m\n\u001b[0m\u001b[0;32m     18\u001b[0m         \u001b[0mcount\u001b[0m\u001b[1;33m+=\u001b[0m\u001b[1;36m1\u001b[0m\u001b[1;33m\u001b[0m\u001b[0m\n\u001b[0;32m     19\u001b[0m \u001b[1;33m\u001b[0m\u001b[0m\n",
      "\u001b[1;31mKeyboardInterrupt\u001b[0m: "
     ]
    }
   ],
   "source": [
    "import datetime\n",
    "import time\n",
    "\n",
    "'''\n",
    "Simple method used to ping Uber API every 15 minutes at the points specified in manhattan_grid\n",
    "\n",
    "'''\n",
    "def pull_surge(delay_min):\n",
    "    #grid_master=grid\n",
    "    grid_temp=grid\n",
    "    \n",
    "    count=0\n",
    "    while(count<=28):\n",
    "        grid_temp['surge']=[get_surge(client,lat,lng) for lat,lng in (grid_temp[['lat_round','lng_round']]).values]\n",
    "        dt_str=datetime.datetime.now().strftime('%m_%d_%Y_%H_%M_%S')\n",
    "        grid_temp['dt_str']=dt_str\n",
    "        grid_temp.to_csv('output\\\\mem_day\\\\mem_day_'+dt_str+'.csv',index=False)\n",
    "        #grid_temp.to_csv('output\\\\am_rush\\\\test_'+dt_str+'.csv',index=False)\n",
    "        print('Iteration complete at: '+dt_str)\n",
    "        time.sleep(delay_min*60)\n",
    "        count+=1\n",
    "    \n",
    "pull_surge(13)    "
   ]
  }
 ],
 "metadata": {
  "kernelspec": {
   "display_name": "Python 2",
   "language": "python",
   "name": "python2"
  },
  "language_info": {
   "codemirror_mode": {
    "name": "ipython",
    "version": 2
   },
   "file_extension": ".py",
   "mimetype": "text/x-python",
   "name": "python",
   "nbconvert_exporter": "python",
   "pygments_lexer": "ipython2",
   "version": "2.7.10"
  }
 },
 "nbformat": 4,
 "nbformat_minor": 0
}
